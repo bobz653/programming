{
 "cells": [
  {
   "cell_type": "markdown",
   "metadata": {},
   "source": [
    "## 正则练习\n",
    "* 匹配\n",
    "* group()"
   ]
  },
  {
   "cell_type": "code",
   "execution_count": 11,
   "metadata": {
    "collapsed": false
   },
   "outputs": [
    {
     "name": "stdout",
     "output_type": "stream",
     "text": [
      "foo\n",
      "('foo',)\n",
      "('ss.',)\n",
      "cdab\n",
      "abcd\n"
     ]
    }
   ],
   "source": [
    "import re\n",
    "\n",
    "m = re.match('(foo)', 'foo')\n",
    "if m is not None:\n",
    "    print m.group()\n",
    "    \n",
    "print m.groups()\n",
    "\n",
    "pat = '\\w+@(\\w+\\.)?\\w+\\.com'\n",
    "print re.match(pat, 'we@ss.sina.com').groups()\n",
    "\n",
    "mystr = 'abcd'\n",
    "print re.sub(r'(\\w{2})(\\w{2})',r'\\2\\1',mystr)\n",
    "\n",
    "\n"
   ]
  }
 ],
 "metadata": {
  "anaconda-cloud": {},
  "kernelspec": {
   "display_name": "Python [conda root]",
   "language": "python",
   "name": "conda-root-py"
  },
  "language_info": {
   "codemirror_mode": {
    "name": "ipython",
    "version": 2
   },
   "file_extension": ".py",
   "mimetype": "text/x-python",
   "name": "python",
   "nbconvert_exporter": "python",
   "pygments_lexer": "ipython2",
   "version": "2.7.12"
  }
 },
 "nbformat": 4,
 "nbformat_minor": 1
}
