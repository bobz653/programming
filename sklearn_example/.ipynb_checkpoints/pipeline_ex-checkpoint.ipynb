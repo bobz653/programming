{
 "cells": [
  {
   "cell_type": "code",
   "execution_count": 12,
   "metadata": {
    "collapsed": false
   },
   "outputs": [
    {
     "name": "stdout",
     "output_type": "stream",
     "text": [
      "(150, 4)\n",
      "[ 1.]\n"
     ]
    }
   ],
   "source": [
    "from numpy import hstack, vstack, array, median, nan\n",
    "from numpy.random import choice\n",
    "from sklearn.datasets import load_iris\n",
    "\n",
    "\n",
    "iris = load_iris()\n",
    "\n",
    "print(iris.data.shape)\n",
    "\n",
    "#特征矩阵加工\n",
    "#使用vstack增加一行含缺失值的样本(nan, nan, nan, nan)\n",
    "iris_1 = vstack((iris.data, array([nan, nan, nan, nan]).reshape(1,-1)))\n",
    "#使用hstack增加一列表示花的颜色（0-白、1-黄、2-红），花的颜色是随机的，意味着颜色并不影响花的分类\n",
    "col_new = choice([0, 1, 2], size=iris.data.shape[0]+1).reshape(-1,1)\n",
    "iris.data = hstack((iris_1,col_new))\n",
    "#目标值向量加工\n",
    "#增加一个目标值，对应含缺失值的样本，值为众数\n",
    "iris.target = hstack((iris.target, array([median(iris.target)])))\n",
    "\n"
   ]
  }
 ],
 "metadata": {
  "anaconda-cloud": {},
  "kernelspec": {
   "display_name": "Python [conda root]",
   "language": "python",
   "name": "conda-root-py"
  },
  "language_info": {
   "codemirror_mode": {
    "name": "ipython",
    "version": 2
   },
   "file_extension": ".py",
   "mimetype": "text/x-python",
   "name": "python",
   "nbconvert_exporter": "python",
   "pygments_lexer": "ipython2",
   "version": "2.7.12"
  }
 },
 "nbformat": 4,
 "nbformat_minor": 1
}
