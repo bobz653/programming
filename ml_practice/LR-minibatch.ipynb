{
 "cells": [
  {
   "cell_type": "code",
   "execution_count": 6,
   "metadata": {
    "collapsed": false
   },
   "outputs": [
    {
     "name": "stdout",
     "output_type": "stream",
     "text": [
      "[[4 8 2]\n",
      " [0 8 3]\n",
      " [4 7 1]\n",
      " [1 0 9]\n",
      " [0 8 2]\n",
      " [3 6 6]\n",
      " [8 2 2]\n",
      " [2 8 8]\n",
      " [1 6 2]\n",
      " [8 4 3]]\n",
      "[26 25 21 28 22 33 18 42 19 25]\n",
      "Current weights is: [ 1.01788   2.105496  1.706172]\n",
      "Current weights is: [ 1.17584558  2.3220134   2.12146911]\n",
      "Current weights is: [ 1.1886141   2.34884385  2.33874764]\n",
      "Current weights is: [ 1.16547084  2.2921774   2.47092234]\n",
      "Current weights is: [ 1.13234718  2.22687939  2.56167101]\n",
      "Current weights is: [ 1.11145409  2.18680969  2.64531946]\n",
      "Current weights is: [ 1.08479154  2.13829009  2.70258472]\n",
      "Current weights is: [ 1.07386793  2.12028445  2.76299037]\n",
      "Current weights is: [ 1.05510454  2.09013506  2.80188154]\n",
      "Current weights is: [ 1.04934706  2.081064    2.84311719]\n"
     ]
    }
   ],
   "source": [
    "#!/usr/bin/env python\n",
    "import numpy as np\n",
    "\n",
    "def labelize(x):\n",
    "    if x > 0.5:\n",
    "        return 1\n",
    "    return 0\n",
    "\n",
    "def sigmoid(x):\n",
    "    return x\n",
    "    #return 1.0 / (1 + np.exp(-x))\n",
    "\n",
    "#train data set \n",
    "feature_size = 3\n",
    "sample_num = 10\n",
    "train_features = np.random.randint(0,10,size=(sample_num,feature_size)) \n",
    "#train_labels = map(labelize, np.random.rand(sample_num,1)) \n",
    "weights = [1,2,3]\n",
    "train_labels = sigmoid(np.sum(weights * train_features,1))\n",
    "print train_features\n",
    "print train_labels\n",
    "\n",
    "\n",
    "#setup hyper-parameters \n",
    "batch_size = 5\n",
    "epoch_num = 10\n",
    "learning_rate = 0.01\n",
    "weights = np.zeros(feature_size)\n",
    "\n",
    "#start traning\n",
    "for epoch in range(epoch_num):\n",
    "    c = list(zip(train_features,train_labels))\n",
    "    np.random.shuffle (c)\n",
    "    train_features,train_labels = zip(*c)\n",
    "    \n",
    "    for i in range(0, len(train_features), batch_size):\n",
    "        sigmoid_predict = sigmoid(np.sum(weights * train_features[i : i + batch_size],1))\n",
    "        \n",
    "        sample_size = len(train_labels[i : i + batch_size])\n",
    "        batch_grad = train_features[i : i + batch_size] * \\\n",
    "        (sigmoid_predict - train_labels[i : i + batch_size]).reshape(sample_size, 1)\n",
    "        batch_grad = np.mean(batch_grad, 0 )\n",
    "    \n",
    "        weights -= learning_rate * batch_grad\n",
    "    \n",
    "    #predict\n",
    "    print(\"Current weights is: {}\".format(weights))\n",
    "    #print 'epoch {}'.format(epoch)\n",
    "    #print 'target {}'.format(train_labels)\n",
    "    #sigmoid_predict = sigmoid(np.sum(weights * train_features,1))\n",
    "    #print 'predict {}'.format(sigmoid_predict)\n",
    "    "
   ]
  }
 ],
 "metadata": {
  "anaconda-cloud": {},
  "kernelspec": {
   "display_name": "Python [conda root]",
   "language": "python",
   "name": "conda-root-py"
  },
  "language_info": {
   "codemirror_mode": {
    "name": "ipython",
    "version": 2
   },
   "file_extension": ".py",
   "mimetype": "text/x-python",
   "name": "python",
   "nbconvert_exporter": "python",
   "pygments_lexer": "ipython2",
   "version": "2.7.12"
  }
 },
 "nbformat": 4,
 "nbformat_minor": 1
}
