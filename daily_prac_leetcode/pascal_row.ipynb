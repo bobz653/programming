{
 "cells": [
  {
   "cell_type": "code",
   "execution_count": 3,
   "metadata": {
    "collapsed": false
   },
   "outputs": [
    {
     "name": "stdout",
     "output_type": "stream",
     "text": [
      "[[1], [1, 1], [1, 2, 1], [1, 3, 3, 1], [1, 4, 6, 4, 1]]\n"
     ]
    }
   ],
   "source": [
    "class Solution(object):\n",
    "    def generate(self, numRows):\n",
    "        \"\"\"\n",
    "        :type numRows: int\n",
    "        :rtype: List[List[int]]\n",
    "        \"\"\"\n",
    "        ret_list = []\n",
    "        for i in range(numRows):\n",
    "            sub_list = []\n",
    "            for k in range(i+1):\n",
    "                if len(ret_list) <= 1:\n",
    "                    sub_list.append(1)\n",
    "                    continue\n",
    "                if k == 0 or k == i:\n",
    "                    sub_list.append(1)\n",
    "                    continue\n",
    "                sub_list.append(ret_list[i-1][k-1] + ret_list[i-1][k])\n",
    "            ret_list.append(sub_list)\n",
    "        return ret_list\n",
    "s = Solution()\n",
    "print s.generate(5)"
   ]
  }
 ],
 "metadata": {
  "kernelspec": {
   "display_name": "Python [conda root]",
   "language": "python",
   "name": "conda-root-py"
  },
  "language_info": {
   "codemirror_mode": {
    "name": "ipython",
    "version": 2
   },
   "file_extension": ".py",
   "mimetype": "text/x-python",
   "name": "python",
   "nbconvert_exporter": "python",
   "pygments_lexer": "ipython2",
   "version": "2.7.12"
  }
 },
 "nbformat": 4,
 "nbformat_minor": 1
}
