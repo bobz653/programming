{
 "cells": [
  {
   "cell_type": "code",
   "execution_count": 16,
   "metadata": {
    "collapsed": false
   },
   "outputs": [
    {
     "ename": "SyntaxError",
     "evalue": "invalid syntax (<ipython-input-16-03ad568ce45c>, line 11)",
     "output_type": "error",
     "traceback": [
      "\u001b[0;36m  File \u001b[0;32m\"<ipython-input-16-03ad568ce45c>\"\u001b[0;36m, line \u001b[0;32m11\u001b[0m\n\u001b[0;31m    for i in list(s)\u001b[0m\n\u001b[0m                    ^\u001b[0m\n\u001b[0;31mSyntaxError\u001b[0m\u001b[0;31m:\u001b[0m invalid syntax\n"
     ]
    }
   ],
   "source": [
    "class Solution(object):\n",
    "    def lengthOfLongestSubstring(self, s):\n",
    "        \"\"\"\n",
    "        :type s: str\n",
    "        :rtype: int\n",
    "        \"\"\"\n",
    "if \"__main__\" == __name__:\n",
    "    s = 'pwdwpd'\n",
    "    print list(s)\n",
    "    h = {}\n",
    "    for i in list(s)\n",
    "    \n",
    "    prefix = []\n",
    "    longest = 0\n",
    "    \n",
    "    index = 0\n",
    "    arr = list(s)\n",
    "    for alpha in arr:\n",
    "        if index  = 0:\n",
    "            longest = 1\n",
    "            tmp[alpha] = index\n",
    "            prefix[0] = tmp\n",
    "            continue\n",
    "        if prefix[index - 1].haskey(alpha):\n",
    "            oldindex = prefix[index - 1][alpha]\n",
    "            length = index - oldindex\n",
    "            longest = length if length > longest else longest\n",
    "            for item in arr[oldindex:index]:\n",
    "                tmp[item] = 1\n",
    "            prefix[index] = tmp\n",
    "        index += 1    \n",
    "    print longest\n",
    "        "
   ]
  },
  {
   "cell_type": "code",
   "execution_count": null,
   "metadata": {
    "collapsed": true
   },
   "outputs": [],
   "source": []
  }
 ],
 "metadata": {
  "anaconda-cloud": {},
  "kernelspec": {
   "display_name": "Python [conda root]",
   "language": "python",
   "name": "conda-root-py"
  },
  "language_info": {
   "codemirror_mode": {
    "name": "ipython",
    "version": 2
   },
   "file_extension": ".py",
   "mimetype": "text/x-python",
   "name": "python",
   "nbconvert_exporter": "python",
   "pygments_lexer": "ipython2",
   "version": "2.7.12"
  }
 },
 "nbformat": 4,
 "nbformat_minor": 1
}
