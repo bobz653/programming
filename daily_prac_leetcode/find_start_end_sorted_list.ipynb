{
 "cells": [
  {
   "cell_type": "code",
   "execution_count": 16,
   "metadata": {},
   "outputs": [
    {
     "name": "stdout",
     "output_type": "stream",
     "text": [
      "[1, 1]\n"
     ]
    }
   ],
   "source": [
    "class Solution(object):\n",
    "    def searchRange(self, nums, target):\n",
    "        \"\"\"\n",
    "        :type nums: List[int]\n",
    "        :type target: int\n",
    "        :rtype: List[int]\n",
    "        \"\"\"\n",
    "        low, high = 0, len(nums)-1\n",
    "        res = []\n",
    "        while(low <= high):\n",
    "            mid = (low + high)// 2\n",
    "            if nums[mid] == target:\n",
    "                nStart = mid - 1\n",
    "                while nStart >= 0 and nums[nStart] == target:\n",
    "                    nStart -= 1\n",
    "                nEnd = mid + 1\n",
    "                while nEnd < len(nums) and nums[nEnd] == target:\n",
    "                    nEnd += 1\n",
    "                res.append(nStart + 1)\n",
    "                res.append(nEnd - 1)\n",
    "                return res\n",
    "            elif nums[mid] < target:\n",
    "                low = mid + 1\n",
    "            else:\n",
    "                high = mid -1\n",
    "        res.append(-1)\n",
    "        res.append(-1)\n",
    "        return res\n",
    "print Solution().searchRange([5,6], 6)"
   ]
  },
  {
   "cell_type": "code",
   "execution_count": 5,
   "metadata": {},
   "outputs": [
    {
     "name": "stdout",
     "output_type": "stream",
     "text": [
      "2\n"
     ]
    }
   ],
   "source": [
    "print 5//2"
   ]
  }
 ],
 "metadata": {
  "kernelspec": {
   "display_name": "Python 2",
   "language": "python",
   "name": "python2"
  },
  "language_info": {
   "codemirror_mode": {
    "name": "ipython",
    "version": 2
   },
   "file_extension": ".py",
   "mimetype": "text/x-python",
   "name": "python",
   "nbconvert_exporter": "python",
   "pygments_lexer": "ipython2",
   "version": "2.7.16"
  }
 },
 "nbformat": 4,
 "nbformat_minor": 2
}
