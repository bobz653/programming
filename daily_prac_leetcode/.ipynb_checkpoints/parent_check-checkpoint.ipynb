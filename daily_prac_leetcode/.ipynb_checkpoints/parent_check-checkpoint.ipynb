{
 "cells": [
  {
   "cell_type": "code",
   "execution_count": 18,
   "metadata": {
    "collapsed": false
   },
   "outputs": [
    {
     "name": "stdout",
     "output_type": "stream",
     "text": [
      "False\n"
     ]
    }
   ],
   "source": [
    "\n",
    "\n",
    "\n",
    "strs = '}'\n",
    "\n",
    "\n",
    "def checkParent(strs):\n",
    "    arr = list(strs)\n",
    "    mylist = []\n",
    "    for item in arr:\n",
    "\n",
    "        if item in ['(','[','{']:\n",
    "            mylist.append(item)\n",
    "  \n",
    "        elif len(mylist) == 0:\n",
    "            return False\n",
    "        elif (item == ')' and mylist[-1] =='(') or \\\n",
    "            (item == ']' and  mylist[-1] =='[') or \\\n",
    "            (item == '}' and  mylist[-1] =='{'):\n",
    "                mylist.pop()\n",
    "        else:\n",
    "            return False\n",
    "\n",
    "    if len(mylist) > 0 :\n",
    "        return False\n",
    "    return True\n",
    "\n",
    "print checkParent(strs)\n",
    "    \n"
   ]
  },
  {
   "cell_type": "code",
   "execution_count": 5,
   "metadata": {
    "collapsed": false
   },
   "outputs": [
    {
     "name": "stdout",
     "output_type": "stream",
     "text": [
      "[1, 2]\n"
     ]
    }
   ],
   "source": [
    "test = [1,2,3]\n",
    "print test[:-1]"
   ]
  }
 ],
 "metadata": {
  "kernelspec": {
   "display_name": "Python [conda root]",
   "language": "python",
   "name": "conda-root-py"
  },
  "language_info": {
   "codemirror_mode": {
    "name": "ipython",
    "version": 2
   },
   "file_extension": ".py",
   "mimetype": "text/x-python",
   "name": "python",
   "nbconvert_exporter": "python",
   "pygments_lexer": "ipython2",
   "version": "2.7.12"
  }
 },
 "nbformat": 4,
 "nbformat_minor": 1
}
