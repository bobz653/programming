{
 "cells": [
  {
   "cell_type": "code",
   "execution_count": 15,
   "id": "927afe41",
   "metadata": {},
   "outputs": [
    {
     "name": "stdout",
     "output_type": "stream",
     "text": [
      "[1, 2]\n"
     ]
    }
   ],
   "source": [
    "class Solution(object):\n",
    "    def twoSum(self, nums, target):\n",
    "        numDict = {}\n",
    "        for i in nums:\n",
    "            if i in numDict:\n",
    "                numDict[i] += 1\n",
    "            else:\n",
    "                numDict[i] = 1\n",
    "\n",
    "        for i in range(len(nums)):\n",
    "            if numDict[nums[i]] == 1:\n",
    "                del numDict[nums[i]] \n",
    "            else:\n",
    "                numDict[nums[i]] -= 1\n",
    "            if target - nums[i] in numDict:\n",
    "                return [i, nums.index(target-nums[i], i+1)]\n",
    "\n",
    "\n",
    "if __name__ == '__main__':\n",
    "    ob = Solution()\n",
    "    nums = [3,2,4]\n",
    "    print(ob.twoSum(nums,6))"
   ]
  }
 ],
 "metadata": {
  "kernelspec": {
   "display_name": "Python 3",
   "language": "python",
   "name": "python3"
  },
  "language_info": {
   "codemirror_mode": {
    "name": "ipython",
    "version": 3
   },
   "file_extension": ".py",
   "mimetype": "text/x-python",
   "name": "python",
   "nbconvert_exporter": "python",
   "pygments_lexer": "ipython3",
   "version": "3.7.10"
  }
 },
 "nbformat": 4,
 "nbformat_minor": 5
}
