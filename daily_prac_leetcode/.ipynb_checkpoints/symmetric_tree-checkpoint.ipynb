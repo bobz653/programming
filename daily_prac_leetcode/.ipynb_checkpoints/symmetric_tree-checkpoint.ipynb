{
 "cells": [
  {
   "cell_type": "code",
   "execution_count": null,
   "metadata": {},
   "outputs": [],
   "source": [
    "# Definition for a binary tree node.\n",
    "# class TreeNode(object):\n",
    "#     def __init__(self, x):\n",
    "#         self.val = x\n",
    "#         self.left = None\n",
    "#         self.right = None\n",
    "\n",
    "class Solution(object):\n",
    "    def isSymArr(self, arr):\n",
    "        i,j = 0, len(arr)-1\n",
    "\n",
    "        while i <= j:\n",
    "            if arr[i] != arr[j]:\n",
    "                return False\n",
    "            i += 1\n",
    "            j -= 1\n",
    "        return True\n",
    "        \n",
    "                \n",
    "    def isSymmetric(self, root):\n",
    "        \"\"\"\n",
    "        :type root: TreeNode\n",
    "        :rtype: bool\n",
    "        \"\"\"\n",
    "        node_que = []\n",
    "        node_que.append(root)\n",
    "        while len(node_que) > 0:\n",
    "            #check symmetric\n",
    "            tmparr = []\n",
    "            size = len(node_que)\n",
    "            for i in range(size):\n",
    "                tmparr.append(node_que[i].val)\n",
    "            if len(tmparr) % 2 != 0:\n",
    "                return False\n",
    "            \n",
    "            "
   ]
  }
 ],
 "metadata": {
  "kernelspec": {
   "display_name": "Python 2",
   "language": "python",
   "name": "python2"
  },
  "language_info": {
   "codemirror_mode": {
    "name": "ipython",
    "version": 2
   },
   "file_extension": ".py",
   "mimetype": "text/x-python",
   "name": "python",
   "nbconvert_exporter": "python",
   "pygments_lexer": "ipython2",
   "version": "2.7.16"
  }
 },
 "nbformat": 4,
 "nbformat_minor": 2
}
