{
 "cells": [
  {
   "cell_type": "code",
   "execution_count": 6,
   "metadata": {},
   "outputs": [
    {
     "name": "stdout",
     "output_type": "stream",
     "text": [
      "['1', '1'] heleo\n",
      "helo\n",
      "helo\n",
      "100\n"
     ]
    }
   ],
   "source": [
    "class Solution(object):\n",
    "    def addBinary(self, a, b):\n",
    "        \"\"\"\n",
    "        :type a: str\n",
    "        :type b: str\n",
    "        :rtype:FDHJK;;'\n",
    "        ' str\n",
    "        \"\"\"\n",
    "        lista = list(a)\n",
    "        listb = list(b)\n",
    "        lista.reverse()\n",
    "        listb.reverse()\n",
    "        print lista,'heleo'\n",
    "        ret = []\n",
    "        idx = 0\n",
    "        flag = 0\n",
    "        while idx < len(lista) or idx < len(listb):\n",
    "            leftval = 1 if idx < len(lista) else 0\n",
    "            rightval = 1 if idx < len(listb) else 0\n",
    "            val = leftval + rightval + flag\n",
    "            if val >= 2:\n",
    "                flag = 1\n",
    "            else:\n",
    "                flag = 0\n",
    "            val = val % 2\n",
    "            ret.append(val)\n",
    "            idx += 1\n",
    "        if flag == 1:\n",
    "            ret.append(1)\n",
    "        ret.reverse()\n",
    "        return ''.join(map(str,ret))\n",
    "        \n",
    "print Solution().addBinary('11','1')"
   ]
  }
 ],
 "metadata": {
  "kernelspec": {
   "display_name": "Python 2",
   "language": "python",
   "name": "python2"
  },
  "language_info": {
   "codemirror_mode": {
    "name": "ipython",
    "version": 2
   },
   "file_extension": ".py",
   "mimetype": "text/x-python",
   "name": "python",
   "nbconvert_exporter": "python",
   "pygments_lexer": "ipython2",
   "version": "2.7.16"
  }
 },
 "nbformat": 4,
 "nbformat_minor": 2
}
