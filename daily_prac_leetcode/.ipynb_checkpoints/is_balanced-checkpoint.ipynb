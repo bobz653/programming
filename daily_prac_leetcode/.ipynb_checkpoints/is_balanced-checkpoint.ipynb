{
 "cells": [
  {
   "cell_type": "code",
   "execution_count": null,
   "metadata": {},
   "outputs": [],
   "source": [
    "# Definition for a binary tree node.\n",
    "# class TreeNode(object):\n",
    "#     def __init__(self, x):\n",
    "#         self.val = x\n",
    "#         self.left = None\n",
    "#         self.right = None\n",
    "\n",
    "class Solution(object):\n",
    "    def depthoftree(self, root):\n",
    "        if root is None:\n",
    "            return 0\n",
    "        leftdepth = self.depthoftree(root.left) + 1\n",
    "        rightdepth = self.depthoftree(root.right) + 1\n",
    "        return leftdepth if leftdepth > rightdepth else rightdepth\n",
    "    \n",
    "    def isBalanced(self, root):\n",
    "        \"\"\"\n",
    "        :type root: TreeNode\n",
    "        :rtype: bool\n",
    "        \"\"\"\n",
    "        if root is None:\n",
    "            return True\n",
    "        left, right = 0, 0\n",
    "        if root.left:\n",
    "            left = depthoftree(root.left)\n",
    "        if root.right:\n",
    "            right = depthoftree(root.right)\n",
    "        if abs(left - right) > 1:\n",
    "            return False\n",
    "        return self.isBalanced(root.right) and self.isBalanced(root.left)"
   ]
  }
 ],
 "metadata": {
  "kernelspec": {
   "display_name": "Python 2",
   "language": "python",
   "name": "python2"
  },
  "language_info": {
   "codemirror_mode": {
    "name": "ipython",
    "version": 2
   },
   "file_extension": ".py",
   "mimetype": "text/x-python",
   "name": "python",
   "nbconvert_exporter": "python",
   "pygments_lexer": "ipython2",
   "version": "2.7.16"
  }
 },
 "nbformat": 4,
 "nbformat_minor": 2
}
