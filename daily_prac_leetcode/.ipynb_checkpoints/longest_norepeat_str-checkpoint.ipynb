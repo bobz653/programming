{
 "cells": [
  {
   "cell_type": "code",
   "execution_count": 27,
   "metadata": {
    "collapsed": false
   },
   "outputs": [
    {
     "name": "stdout",
     "output_type": "stream",
     "text": [
      "['p', 'w', 'd', 'w', 'p', 'd']\n",
      "1\n",
      "{}\n",
      "0\n",
      "{'w': 0}\n",
      "1\n",
      "{}\n",
      "0\n",
      "{'w': 0}\n",
      "1\n",
      "{}\n",
      "2\n"
     ]
    }
   ],
   "source": [
    "class Solution(object):\n",
    "    def lengthOfLongestSubstring(self, s):\n",
    "        \"\"\"\n",
    "        :type s: str\n",
    "        :rtype: int\n",
    "        \"\"\"\n",
    "if \"__main__\" == __name__:\n",
    "    s = 'pwdwpd'\n",
    "    print list(s)\n",
    "    h = {}\n",
    "    \n",
    "    prefix = []\n",
    "    longest = 0\n",
    "    \n",
    "    index = 0\n",
    "    arr = list(s)\n",
    "    for alpha in arr:\n",
    "        if index == 0:\n",
    "            longest = 1\n",
    "            tmp = {}\n",
    "            tmp[alpha] = index\n",
    "            prefix.append(tmp)\n",
    "            index += 1\n",
    "            continue\n",
    "        length = len(prefix[index - 1])\n",
    "        if prefix[index - 1].has_key(alpha):\n",
    "            oldindex = prefix[index - 1][alpha]\n",
    "            length = index - oldindex\n",
    "        else:\n",
    "            length += 1\n",
    "        tmp = {}\n",
    "        for index,val in enumerate(arr[index-length :index]):\n",
    "            tmp[val] = index\n",
    "        prefix.append(tmp)\n",
    "        print index\n",
    "        print tmp\n",
    "        longest = length if length > longest else longest\n",
    "        \n",
    "        index += 1\n",
    "    print longest\n",
    "        "
   ]
  },
  {
   "cell_type": "code",
   "execution_count": null,
   "metadata": {
    "collapsed": true
   },
   "outputs": [],
   "source": []
  }
 ],
 "metadata": {
  "anaconda-cloud": {},
  "kernelspec": {
   "display_name": "Python [conda root]",
   "language": "python",
   "name": "conda-root-py"
  },
  "language_info": {
   "codemirror_mode": {
    "name": "ipython",
    "version": 2
   },
   "file_extension": ".py",
   "mimetype": "text/x-python",
   "name": "python",
   "nbconvert_exporter": "python",
   "pygments_lexer": "ipython2",
   "version": "2.7.12"
  }
 },
 "nbformat": 4,
 "nbformat_minor": 1
}
