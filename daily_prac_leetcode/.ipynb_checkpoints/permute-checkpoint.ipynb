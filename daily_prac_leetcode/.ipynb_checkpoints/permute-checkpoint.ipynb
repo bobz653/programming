{
 "cells": [
  {
   "cell_type": "code",
   "execution_count": 20,
   "metadata": {},
   "outputs": [
    {
     "data": {
      "text/plain": [
       "[[1, 2, 3], [1, 3, 2], [2, 1, 3], [2, 3, 1], [3, 1, 2], [3, 2, 1]]"
      ]
     },
     "execution_count": 20,
     "metadata": {},
     "output_type": "execute_result"
    }
   ],
   "source": [
    "class Solution(object):\n",
    "    def track(self, nums, curlist, retlist):\n",
    "        if len(nums) == 0:\n",
    "            retlist.append(curlist)\n",
    "            return\n",
    "        #print nums,'h'\n",
    "        for item in nums:\n",
    "            nums_copy   = list(nums)\n",
    "            nums_copy.remove(item)\n",
    "            tmplist = list(curlist)\n",
    "            tmplist.append(item)\n",
    "            self.track(nums_copy,tmplist, retlist)\n",
    "             \n",
    "    def getlist(self, nums):\n",
    "        mylist = []\n",
    "        globallist = []\n",
    "        self.track(nums, mylist,globallist)\n",
    "        return globallist\n",
    "myl = [1,2,3]\n",
    "Solution().getlist(myl)        \n"
   ]
  }
 ],
 "metadata": {
  "kernelspec": {
   "display_name": "Python 2",
   "language": "python",
   "name": "python2"
  },
  "language_info": {
   "codemirror_mode": {
    "name": "ipython",
    "version": 2
   },
   "file_extension": ".py",
   "mimetype": "text/x-python",
   "name": "python",
   "nbconvert_exporter": "python",
   "pygments_lexer": "ipython2",
   "version": "2.7.16"
  }
 },
 "nbformat": 4,
 "nbformat_minor": 2
}
