{
 "cells": [
  {
   "cell_type": "code",
   "execution_count": null,
   "metadata": {},
   "outputs": [],
   "source": [
    "# Definition for a binary tree node.\n",
    "# class TreeNode(object):\n",
    "#     def __init__(self, x):\n",
    "#         self.val = x\n",
    "#         self.left = None\n",
    "#         self.right = None\n",
    "\n",
    "class Solution(object):\n",
    "    def levelOrder(self, root):\n",
    "        \"\"\"\n",
    "        :type root: TreeNode\n",
    "        :rtype: List[List[int]]\n",
    "        \"\"\"\n",
    "        retlist = []\n",
    "        quelist = list(root)\n",
    "        while(len(quelist) > 0):\n",
    "            tmplist = []\n",
    "            size = len(quelist)\n",
    "            for item in range(0,size):\n",
    "                if quelist[0]:\n",
    "                    tmplist.append(quelist[0].val)\n",
    "                \n",
    "                if quelist[0].left:\n",
    "                    quelist.append(quelist[0].left)\n",
    "                if quelist[0].right:\n",
    "                    quelist.append(quelist[0].right)\n",
    "                quelist.pop()\n",
    "                "
   ]
  }
 ],
 "metadata": {
  "kernelspec": {
   "display_name": "Python 2",
   "language": "python",
   "name": "python2"
  },
  "language_info": {
   "codemirror_mode": {
    "name": "ipython",
    "version": 2
   },
   "file_extension": ".py",
   "mimetype": "text/x-python",
   "name": "python",
   "nbconvert_exporter": "python",
   "pygments_lexer": "ipython2",
   "version": "2.7.16"
  }
 },
 "nbformat": 4,
 "nbformat_minor": 2
}
