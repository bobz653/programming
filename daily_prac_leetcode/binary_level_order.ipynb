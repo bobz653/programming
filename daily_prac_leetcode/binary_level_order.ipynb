{
 "cells": [
  {
   "cell_type": "code",
   "execution_count": null,
   "metadata": {},
   "outputs": [],
   "source": [
    "# Definition for a binary tree node.\n",
    "# class TreeNode(object):\n",
    "#     def __init__(self, x):\n",
    "#         self.val = x\n",
    "#         self.left = None\n",
    "#         self.right = None\n",
    "\n",
    "class Solution(object):\n",
    "    def levelOrder(self, root):\n",
    "        \"\"\"\n",
    "        :type root: TreeNode\n",
    "        :rtype: List[List[int]]\n",
    "        \"\"\"\n",
    "        retlist = []\n",
    "        quelist = []\n",
    "        if not root:\n",
    "            return retlist\n",
    "        quelist.append(root)\n",
    "        while(len(quelist) > 0):\n",
    "            tmplist = []\n",
    "            size = len(quelist)\n",
    "            for item in range(0,size):\n",
    "                if quelist[0]:\n",
    "                    tmplist.append(quelist[0].val)\n",
    "                \n",
    "                if quelist[0].left:\n",
    "                    quelist.append(quelist[0].left)\n",
    "                if quelist[0].right:\n",
    "                    quelist.append(quelist[0].right)\n",
    "                quelist.pop(0)\n",
    "            retlist.append(tmplist)\n",
    "        return retlist\n",
    "            \n",
    "                "
   ]
  },
  {
   "cell_type": "code",
   "execution_count": null,
   "metadata": {},
   "outputs": [],
   "source": [
    "# Definition for a binary tree node.\n",
    "# class TreeNode(object):\n",
    "#     def __init__(self, x):\n",
    "#         self.val = x\n",
    "#         self.left = None\n",
    "#         self.right = None\n",
    "\n",
    "class Solution(object):\n",
    "    def levelOrder(self, root):\n",
    "        \"\"\"\n",
    "        :type root: TreeNode\n",
    "        :rtype: List[List[int]]\n",
    "        \"\"\"\n",
    "        # Definition for a binary tree node.\n",
    "# class TreeNode(object):\n",
    "#     def __init__(self, x):\n",
    "#         self.val = x\n",
    "#         self.left = None\n",
    "#         self.right = None\n",
    "\n",
    "class Solution(object):\n",
    "    def zigzagLevelOrder(self, root):\n",
    "        \"\"\"\n",
    "        :type root: TreeNode\n",
    "        :rtype: List[List[int]]\n",
    "        \"\"\"\n",
    "        retlist = []\n",
    "        quelist = []\n",
    "        if not root:\n",
    "            return retlist\n",
    "        quelist.append(root)\n",
    "        bflag = True\n",
    "        while(len(quelist) > 0):\n",
    "            tmplist = []\n",
    "            size = len(quelist)\n",
    "            for item in range(0,size):\n",
    "                if quelist[0]:\n",
    "                    tmplist.append(quelist[0].val)\n",
    "                if quelist[0].left:\n",
    "                    quelist.append(quelist[0].left)\n",
    "                if quelist[0].right:\n",
    "                    quelist.append(quelist[0].right)\n",
    "                quelist.pop(0)\n",
    "            bflag = not bflag\n",
    "            if bflag:\n",
    "                tmplist.reverse()\n",
    "        \n",
    "            retlist.append(tmplist)\n",
    "        return retlist\n",
    "            \n",
    "                "
   ]
  },
  {
   "cell_type": "code",
   "execution_count": 7,
   "metadata": {},
   "outputs": [
    {
     "data": {
      "text/plain": [
       "[3, 2, 1]"
      ]
     },
     "execution_count": 7,
     "metadata": {},
     "output_type": "execute_result"
    }
   ],
   "source": [
    "p = [1,2,3]\n",
    "p.reverse()\n",
    "p"
   ]
  }
 ],
 "metadata": {
  "kernelspec": {
   "display_name": "Python 2",
   "language": "python",
   "name": "python2"
  },
  "language_info": {
   "codemirror_mode": {
    "name": "ipython",
    "version": 2
   },
   "file_extension": ".py",
   "mimetype": "text/x-python",
   "name": "python",
   "nbconvert_exporter": "python",
   "pygments_lexer": "ipython2",
   "version": "2.7.16"
  }
 },
 "nbformat": 4,
 "nbformat_minor": 2
}
