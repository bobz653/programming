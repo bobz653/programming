{
 "cells": [
  {
   "cell_type": "code",
   "execution_count": 8,
   "metadata": {
    "collapsed": false
   },
   "outputs": [
    {
     "name": "stdout",
     "output_type": "stream",
     "text": [
      " \r",
      "link list traving result:  1 2\n"
     ]
    }
   ],
   "source": [
    "# Definition for singly-linked list.\n",
    "class ListNode(object):\n",
    "    def __init__(self, x):\n",
    "        self.val = x\n",
    "        self.next = None\n",
    "        \n",
    "class LinkList(object):\n",
    "    def __init__(self, x):\n",
    "        p = self.head = ListNode(x[0])\n",
    "        for data in x[1:]:\n",
    "            tmp = ListNode(data)\n",
    "            p.next = tmp\n",
    "            p = tmp\n",
    "        self.tail = p\n",
    "        \n",
    "    def traveList(self):\n",
    "        print '\\rlink list traving result: ',\n",
    "        p = self.head\n",
    "        while p:\n",
    "            print p.val,\n",
    "            p = p.next\n",
    "    def addNode(ListNode p):\n",
    "        self.tail.next = p\n",
    "        self.tail = p\n",
    " \n",
    "class Solution(object):\n",
    "    def addTwoNumbers(self, l1, l2):\n",
    "        \"\"\"\n",
    "        :type l1: ListNode\n",
    "        :type l2: ListNode\n",
    "        :rtype: ListNode\n",
    "        \"\"\"\n",
    "        rl = LinkList()\n",
    "        nStep = 0\n",
    "        p, q = l1.head, l2.head\n",
    "        while(p or q):\n",
    "            total_val = p.val if p + q.val if q + nStep\n",
    "            posval, nStep = total_val if total_val < 10 else 0, 0 if total_val < 10 else total_val - 10\n",
    "            \n",
    "if  '__main__' == __name__:\n",
    "    ll = LinkList([1,2])\n",
    "    ll.traveList()\n",
    "    "
   ]
  }
 ],
 "metadata": {
  "anaconda-cloud": {},
  "kernelspec": {
   "display_name": "Python [conda root]",
   "language": "python",
   "name": "conda-root-py"
  },
  "language_info": {
   "codemirror_mode": {
    "name": "ipython",
    "version": 2
   },
   "file_extension": ".py",
   "mimetype": "text/x-python",
   "name": "python",
   "nbconvert_exporter": "python",
   "pygments_lexer": "ipython2",
   "version": "2.7.12"
  }
 },
 "nbformat": 4,
 "nbformat_minor": 1
}
