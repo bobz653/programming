{
 "cells": [
  {
   "cell_type": "code",
   "execution_count": 15,
   "metadata": {
    "collapsed": false
   },
   "outputs": [
    {
     "name": "stdout",
     "output_type": "stream",
     "text": [
      "\r",
      "link list traving result: \n",
      "1\n",
      "2\n",
      "2\n"
     ]
    }
   ],
   "source": [
    "# Definition for singly-linked list.\n",
    "class ListNode(object):\n",
    "    def __init__(self, x):\n",
    "        self.val = x\n",
    "        self.next = None\n",
    "        \n",
    "class LinkList(object):\n",
    "    \n",
    "    def __init__(self):\n",
    "        self.tail = self.head = None\n",
    "        \n",
    "    def init_list(self, x):\n",
    "        p = self.head = ListNode(x[0])\n",
    "        for data in x[1:]:\n",
    "            tmp = ListNode(data)\n",
    "            p.next = tmp\n",
    "            p = tmp\n",
    "        self.tail = p\n",
    "        \n",
    "        \n",
    "    def traveList(self):\n",
    "        print '\\rlink list traving result: '\n",
    "        p = self.head\n",
    "        while p:\n",
    "            print p.val\n",
    "            p = p.next\n",
    "            \n",
    "    def addNode(self, p):\n",
    "        if not self.head:\n",
    "            self.tail = self.head = p\n",
    "            return\n",
    "        self.tail.next = p\n",
    "        self.tail = p\n",
    "        \n",
    " \n",
    "class Solution(object):\n",
    "    def addTwoNumbers(self, l1, l2):\n",
    "        \"\"\"\n",
    "        :type l1: ListNode\n",
    "        :type l2: ListNode\n",
    "        :rtype: ListNode\n",
    "        \"\"\"\n",
    "        r1 = LinkList()\n",
    "        posval = nStep = 0\n",
    "        p, q = l1.head, l2.head\n",
    "        while(p or q):\n",
    "            total_val = p.val if p else 0 + q.val if q else 0 + nStep\n",
    "            posval, nStep = total_val if total_val < 10 else int(total_val/10), 0 if total_val < 10 else total_val - 10\n",
    "            r1.addNode(ListNode(posval))\n",
    "            p = p.next\n",
    "            q = q.next\n",
    "        if posval > 0:\n",
    "            r1.addNode(ListNode(posval))\n",
    "        if nStep > 0:\n",
    "            r1.addNode(ListNode(nStep))\n",
    "        return r1\n",
    "            \n",
    "if  '__main__' == __name__:\n",
    "    l1 = LinkList()\n",
    "    l1.init_list([1,2])\n",
    "    l2 = LinkList()\n",
    "    l2.init_list([1,8])\n",
    "    s = Solution()\n",
    "    p1 = s.addTwoNumbers(l1,l2)\n",
    "    p1.traveList()\n",
    "    "
   ]
  }
 ],
 "metadata": {
  "anaconda-cloud": {},
  "kernelspec": {
   "display_name": "Python [conda root]",
   "language": "python",
   "name": "conda-root-py"
  },
  "language_info": {
   "codemirror_mode": {
    "name": "ipython",
    "version": 2
   },
   "file_extension": ".py",
   "mimetype": "text/x-python",
   "name": "python",
   "nbconvert_exporter": "python",
   "pygments_lexer": "ipython2",
   "version": "2.7.12"
  }
 },
 "nbformat": 4,
 "nbformat_minor": 1
}
