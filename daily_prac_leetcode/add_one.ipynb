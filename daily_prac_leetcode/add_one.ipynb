{
 "cells": [
  {
   "cell_type": "code",
   "execution_count": null,
   "metadata": {},
   "outputs": [],
   "source": [
    "class Solution(object):\n",
    "    def plusOne(self, digits):\n",
    "        \"\"\"\n",
    "        :type digits: List[int]\n",
    "        :rtype: List[int]\n",
    "        \"\"\"\n",
    "        res = []\n",
    "        flag = 0\n",
    "        for i in reversed(digits):\n",
    "            if i == 9:\n",
    "                flag = 1\n",
    "            else:\n",
    "                flag = 0\n",
    "            if flag ==  1:\n",
    "                res.append(0)\n",
    "            else:\n",
    "                res.append(i + 1)\n",
    "        if flag == 1:\n",
    "            res.append(1)\n",
    "        return reversed(res)\n"
   ]
  }
 ],
 "metadata": {
  "kernelspec": {
   "display_name": "Python 2",
   "language": "python",
   "name": "python2"
  },
  "language_info": {
   "codemirror_mode": {
    "name": "ipython",
    "version": 2
   },
   "file_extension": ".py",
   "mimetype": "text/x-python",
   "name": "python",
   "nbconvert_exporter": "python",
   "pygments_lexer": "ipython2",
   "version": "2.7.16"
  }
 },
 "nbformat": 4,
 "nbformat_minor": 2
}
