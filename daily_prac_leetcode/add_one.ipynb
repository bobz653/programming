{
 "cells": [
  {
   "cell_type": "code",
   "execution_count": 12,
   "metadata": {},
   "outputs": [
    {
     "name": "stdout",
     "output_type": "stream",
     "text": [
      "[1, 0, 0, 0]\n"
     ]
    }
   ],
   "source": [
    "class Solution(object):\n",
    "    def plusOne(self, digits):\n",
    "        \"\"\"\n",
    "        :type digits: List[int]\n",
    "        :rtype: List[int]\n",
    "        \"\"\"\n",
    "        res = []\n",
    "        flag = 0\n",
    "        bFirst = 1\n",
    "        for i in reversed(digits):\n",
    "            if i == 9 and bFirst ==  1:\n",
    "                flag = 1\n",
    "            else:\n",
    "                flag = 0\n",
    "            if flag ==  1:\n",
    "                res.append(0)\n",
    "            else:\n",
    "                if bFirst == 1:\n",
    "                    res.append(i + 1)\n",
    "                    bFirst = 0 \n",
    "                else:\n",
    "                    res.append(i)\n",
    "        if flag == 1:\n",
    "            res.append(1)\n",
    "        res.reverse()\n",
    "        return res\n",
    "print Solution().plusOne([9,9,9])"
   ]
  }
 ],
 "metadata": {
  "kernelspec": {
   "display_name": "Python 2",
   "language": "python",
   "name": "python2"
  },
  "language_info": {
   "codemirror_mode": {
    "name": "ipython",
    "version": 2
   },
   "file_extension": ".py",
   "mimetype": "text/x-python",
   "name": "python",
   "nbconvert_exporter": "python",
   "pygments_lexer": "ipython2",
   "version": "2.7.16"
  }
 },
 "nbformat": 4,
 "nbformat_minor": 2
}
