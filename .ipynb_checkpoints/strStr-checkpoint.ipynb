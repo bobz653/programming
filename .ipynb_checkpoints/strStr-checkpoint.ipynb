{
 "cells": [
  {
   "cell_type": "code",
   "execution_count": 16,
   "metadata": {},
   "outputs": [
    {
     "name": "stdout",
     "output_type": "stream",
     "text": [
      "-1\n",
      "2\n"
     ]
    }
   ],
   "source": [
    "str = 'hello'\n",
    "str[0]\n",
    "class Solution1(object):\n",
    "    def strStr(self, haystack, needle):\n",
    "        \"\"\"\n",
    "        :type haystack: str\n",
    "        :type needle: str\n",
    "        :rtype: int\n",
    "        \"\"\"\n",
    "        if needle == '' or needle is None:\n",
    "            return 0\n",
    "        len1, len2 = len(haystack), len(needle)\n",
    "        for i in range(len1 - len2 + 1):\n",
    "            match = True\n",
    "            for j in range(len(needle)):\n",
    "                if haystack[i+j] != needle[j]:\n",
    "                    match = False\n",
    "                    break\n",
    "            if match:\n",
    "                return i\n",
    "        return -1\n",
    "class Solution(object):\n",
    "    def strStr(self, haystack, needle):\n",
    "        return haystack.find(needle)\n",
    "        \n",
    "print Solution().strStr('mississippi','issipi')\n",
    "print Solution().strStr('hello','ll')\n"
   ]
  }
 ],
 "metadata": {
  "kernelspec": {
   "display_name": "Python 2",
   "language": "python",
   "name": "python2"
  },
  "language_info": {
   "codemirror_mode": {
    "name": "ipython",
    "version": 2
   },
   "file_extension": ".py",
   "mimetype": "text/x-python",
   "name": "python",
   "nbconvert_exporter": "python",
   "pygments_lexer": "ipython2",
   "version": "2.7.16"
  }
 },
 "nbformat": 4,
 "nbformat_minor": 2
}
