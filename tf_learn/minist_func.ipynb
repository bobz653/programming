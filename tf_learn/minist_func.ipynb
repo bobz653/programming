{
 "cells": [
  {
   "cell_type": "code",
   "execution_count": 48,
   "metadata": {
    "collapsed": false
   },
   "outputs": [
    {
     "name": "stdout",
     "output_type": "stream",
     "text": [
      "[1. 1. 1.]\n"
     ]
    }
   ],
   "source": [
    "from tensorflow.examples.tutorials.mnist import input_data\n",
    "#mnist =  input_data.read_data_sets(\"MNIST_data/\", one_hot=True)\n",
    "import tensorflow as tf\n",
    "import numpy as np\n",
    "def cosine(q,a):\n",
    "    pooled_len_1 = tf.sqrt(tf.reduce_sum(q * q, 1))\n",
    "    pooled_len_2 = tf.sqrt(tf.reduce_sum(a * a, 1))\n",
    "    pooled_mul_12 = tf.reduce_sum(q * a, 1)\n",
    "    score = tf.div(pooled_mul_12, pooled_len_1 * pooled_len_2 +1e-8, name=\"scores\")\n",
    "    return score \n",
    "\n",
    "a = tf.constant([[[2],[0]]], tf.float32)\n",
    "b = tf.constant([[[0],[5]]], tf.float32)\n",
    "c = np.array([2.,0.]).reshape(1,2)\n",
    "d = np.array([1.,5.]).reshape(1,2)\n",
    "\n",
    "e = tf.constant([2.,0.,2.,0.,2.,0.],shape=(3,2))\n",
    "d = tf.constant([2.,0.,2.,0.,2.,0.],shape=(3,2))\n",
    "with tf.Session() as sess:\n",
    "    sess.run(tf.global_variables_initializer())\n",
    "    print sess.run(cosine(e,d))\n",
    "#print type(a)\n",
    "#print cosine(a, b)\n",
    "#sess.run(test_node, feed_dict={input_placeholder: 100})\n"
   ]
  }
 ],
 "metadata": {
  "anaconda-cloud": {},
  "kernelspec": {
   "display_name": "Python [conda root]",
   "language": "python",
   "name": "conda-root-py"
  },
  "language_info": {
   "codemirror_mode": {
    "name": "ipython",
    "version": 2
   },
   "file_extension": ".py",
   "mimetype": "text/x-python",
   "name": "python",
   "nbconvert_exporter": "python",
   "pygments_lexer": "ipython2",
   "version": "2.7.12"
  }
 },
 "nbformat": 4,
 "nbformat_minor": 1
}
